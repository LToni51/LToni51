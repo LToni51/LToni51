{
  "nbformat": 4,
  "nbformat_minor": 0,
  "metadata": {
    "colab": {
      "provenance": [],
      "authorship_tag": "ABX9TyPJ9yf4uxAunkUbzDEHHv2o",
      "include_colab_link": true
    },
    "kernelspec": {
      "name": "python3",
      "display_name": "Python 3"
    },
    "language_info": {
      "name": "python"
    }
  },
  "cells": [
    {
      "cell_type": "markdown",
      "metadata": {
        "id": "view-in-github",
        "colab_type": "text"
      },
      "source": [
        "<a href=\"https://colab.research.google.com/github/LToni51/LToni51/blob/main/PRATICA%20PYSPARK.ipynb\" target=\"_parent\"><img src=\"https://colab.research.google.com/assets/colab-badge.svg\" alt=\"Open In Colab\"/></a>"
      ]
    },
    {
      "cell_type": "markdown",
      "source": [
        "\n",
        "Forma para instalar o PySpark/ geralmente faz no cmd ou prompt de comando"
      ],
      "metadata": {
        "id": "skFT1NyosFJx"
      }
    },
    {
      "cell_type": "code",
      "execution_count": 1,
      "metadata": {
        "colab": {
          "base_uri": "https://localhost:8080/"
        },
        "id": "mVVIriCzr27J",
        "outputId": "51082bb7-3b64-4a73-995c-51c2a9b37ee6"
      },
      "outputs": [
        {
          "output_type": "stream",
          "name": "stdout",
          "text": [
            "Requirement already satisfied: pyspark in /usr/local/lib/python3.12/dist-packages (3.5.1)\n",
            "Requirement already satisfied: py4j==0.10.9.7 in /usr/local/lib/python3.12/dist-packages (from pyspark) (0.10.9.7)\n"
          ]
        }
      ],
      "source": [
        "pip install pyspark"
      ]
    },
    {
      "cell_type": "markdown",
      "source": [
        "PASSO 2 IMPORTANDO AS BIBLIOTECAS DE UMA SESSÃO SPARK"
      ],
      "metadata": {
        "id": "5qIwRFlkY8JI"
      }
    },
    {
      "cell_type": "code",
      "source": [
        "from pyspark.sql import SparkSession\n",
        "from pyspark.sql.function import *\n",
        "from pyspark.sql.types import *"
      ],
      "metadata": {
        "id": "bpYCah2rZBnJ"
      },
      "execution_count": 3,
      "outputs": []
    },
    {
      "cell_type": "markdown",
      "source": [
        "Passo 3 iniciando uma sessão spark"
      ],
      "metadata": {
        "id": "PJ1qpgK7sSdO"
      }
    },
    {
      "cell_type": "code",
      "source": [
        "\n",
        "spark = (SparkSession.builder.appName('local[*]').appName('exercicioSpark').getOrCreate())"
      ],
      "metadata": {
        "id": "PHjZyXFvsU8W"
      },
      "execution_count": 4,
      "outputs": []
    },
    {
      "cell_type": "markdown",
      "source": [
        "PASSO 4 CRIANDO O DATAFRAME E LENDO O ARQUIVO"
      ],
      "metadata": {
        "id": "MqkUohfwZehw"
      }
    },
    {
      "cell_type": "code",
      "source": [
        "dataframe = spark.read.csv('brasileirao2025.csv',header=True, inferSchema=True)"
      ],
      "metadata": {
        "id": "M308JoNrcSl3"
      },
      "execution_count": 7,
      "outputs": []
    },
    {
      "cell_type": "code",
      "source": [
        "PASSO 5 EXIBINDO O DATAFRAME"
      ],
      "metadata": {
        "id": "HjIFWOh5cz7K"
      },
      "execution_count": null,
      "outputs": []
    },
    {
      "cell_type": "code",
      "source": [
        "dataframe.show(5)"
      ],
      "metadata": {
        "id": "0CraBvAVc26H",
        "outputId": "286aec7e-b12a-41dc-e5f1-a75a3dbd8b3c",
        "colab": {
          "base_uri": "https://localhost:8080/"
        }
      },
      "execution_count": 8,
      "outputs": [
        {
          "output_type": "stream",
          "name": "stdout",
          "text": [
            "+----------------+--------------------+-----------------+-----------------+--------------+---------------+--------------+----------------+--------------------+-----------+------------------+------------------+----------+\n",
            "|            Time|           Jogador 1|        Jogador 2|        Jogador 3|     Jogador 4|      Jogador 5|     Jogador 6|       Jogador 7|           Jogador 8|  Jogador 9|        Jogador 10|        Jogador 11|Jogador 12|\n",
            "+----------------+--------------------+-----------------+-----------------+--------------+---------------+--------------+----------------+--------------------+-----------+------------------+------------------+----------+\n",
            "|Atlético Mineiro|         Fausto Vera|    Renzo Saravia|     Tomás Cuello|    Iván Román|    Alan Franco| Júnior Alonso|            NULL|                NULL|       NULL|              NULL|              NULL|      NULL|\n",
            "|           Bahia|Santiago Ramos Mingo|   Santiago Arias|Luciano Rodríguez| Michel Araújo|Nicolás Acevedo|          NULL|            NULL|                NULL|       NULL|              NULL|              NULL|      NULL|\n",
            "|        Botafogo|              Bastos|Alexander Barboza|   Álvaro Montoro|Joaquín Correa| Jordan Barrera|Cristhian Loor|     Chris Ramos|   Gonzalo Mastriani|Matéo Ponte|Santiago Rodríguez|Jefferson Savarino|      NULL|\n",
            "|           Ceará|         Lucas Mugni|  Antonio Galeano|     Rafael Ramos|          NULL|           NULL|          NULL|            NULL|                NULL|       NULL|              NULL|              NULL|      NULL|\n",
            "|     Corinthians|   Fabrizio Angileri|    Rodrigo Garro|     Félix Torres| Memphis Depay|   Ángel Romero|André Carrillo|Héctor Hernández|José Andrés Martínez|       NULL|              NULL|              NULL|      NULL|\n",
            "+----------------+--------------------+-----------------+-----------------+--------------+---------------+--------------+----------------+--------------------+-----------+------------------+------------------+----------+\n",
            "only showing top 5 rows\n",
            "\n"
          ]
        }
      ]
    },
    {
      "cell_type": "code",
      "source": [
        "spark.stop()"
      ],
      "metadata": {
        "id": "_JNn6QrrdBan"
      },
      "execution_count": 9,
      "outputs": []
    }
  ]
}