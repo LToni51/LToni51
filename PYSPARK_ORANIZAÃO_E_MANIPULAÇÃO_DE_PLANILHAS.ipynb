{
  "nbformat": 4,
  "nbformat_minor": 0,
  "metadata": {
    "colab": {
      "provenance": [],
      "authorship_tag": "ABX9TyMAabc0Ab3OHulh511Gwkli",
      "include_colab_link": true
    },
    "kernelspec": {
      "name": "python3",
      "display_name": "Python 3"
    },
    "language_info": {
      "name": "python"
    }
  },
  "cells": [
    {
      "cell_type": "markdown",
      "metadata": {
        "id": "view-in-github",
        "colab_type": "text"
      },
      "source": [
        "<a href=\"https://colab.research.google.com/github/LToni51/LToni51/blob/main/PYSPARK_ORANIZA%C3%83O_E_MANIPULA%C3%87%C3%83O_DE_PLANILHAS.ipynb\" target=\"_parent\"><img src=\"https://colab.research.google.com/assets/colab-badge.svg\" alt=\"Open In Colab\"/></a>"
      ]
    },
    {
      "cell_type": "code",
      "execution_count": null,
      "metadata": {
        "colab": {
          "base_uri": "https://localhost:8080/"
        },
        "id": "30fJLxJ6xoUB",
        "outputId": "7aced03f-51f2-4ad4-9309-cd8b63489b19"
      },
      "outputs": [
        {
          "output_type": "stream",
          "name": "stdout",
          "text": [
            "Requirement already satisfied: pyspark in /usr/local/lib/python3.12/dist-packages (3.5.1)\n",
            "Requirement already satisfied: py4j==0.10.9.7 in /usr/local/lib/python3.12/dist-packages (from pyspark) (0.10.9.7)\n"
          ]
        }
      ],
      "source": [
        "pip install pyspark"
      ]
    },
    {
      "cell_type": "markdown",
      "source": [
        "IMPORTAÇÃO DE BIBLIOTECAS E FUNÇÕES"
      ],
      "metadata": {
        "id": "ydpl8gmspCq0"
      }
    },
    {
      "cell_type": "code",
      "source": [
        "import os\n",
        "import sys\n",
        "\n",
        "os.environ ['PYSPARK_PYTHON'] = sys.executable\n",
        "os.environ ['PYSPAR_DRIVER_PYTHON'] = sys.executable"
      ],
      "metadata": {
        "id": "X_juwAgwoS3U"
      },
      "execution_count": null,
      "outputs": []
    },
    {
      "cell_type": "code",
      "source": [
        "from pyspark.sql import SparkSession\n",
        "from pyspark.sql.functions import*\n",
        "from pyspark.sql.types import *"
      ],
      "metadata": {
        "id": "-tyOohySjLyT"
      },
      "execution_count": null,
      "outputs": []
    },
    {
      "cell_type": "markdown",
      "source": [
        "***Criar / iniciar sessão ***"
      ],
      "metadata": {
        "id": "CSK76zQRoADz"
      }
    },
    {
      "cell_type": "code",
      "source": [
        "spark = (\n",
        "\n",
        "         SparkSession.builder\n",
        "         .master('local')\n",
        "         .appName('pyspark_01')\n",
        "         .getOrCreate()\n",
        "\n",
        ")"
      ],
      "metadata": {
        "id": "tR3NTJ_SjLzs"
      },
      "execution_count": null,
      "outputs": []
    },
    {
      "cell_type": "markdown",
      "source": [
        "Criar Data Frame / Ler o arquivo"
      ],
      "metadata": {
        "id": "w0UJN5Zrn0cZ"
      }
    },
    {
      "cell_type": "code",
      "source": [
        "df = spark.read.csv('titanic.csv',header=True,inferSchema=True)"
      ],
      "metadata": {
        "id": "mwXk1qb4lxhL"
      },
      "execution_count": null,
      "outputs": []
    },
    {
      "cell_type": "markdown",
      "source": [
        "EXIBIR DF"
      ],
      "metadata": {
        "id": "ypyDx8D0qRL7"
      }
    },
    {
      "cell_type": "code",
      "source": [
        "df.show(5)"
      ],
      "metadata": {
        "colab": {
          "base_uri": "https://localhost:8080/"
        },
        "id": "NfE3Auw5qS4b",
        "outputId": "ea0b1b82-ea47-4544-ce08-4ab52e8d1615"
      },
      "execution_count": null,
      "outputs": [
        {
          "output_type": "stream",
          "name": "stdout",
          "text": [
            "+-----------+--------+------+--------------------+------+----+-----+-----+----------------+-------+-----+--------+\n",
            "|PassengerId|Survived|Pclass|                Name|   Sex| Age|SibSp|Parch|          Ticket|   Fare|Cabin|Embarked|\n",
            "+-----------+--------+------+--------------------+------+----+-----+-----+----------------+-------+-----+--------+\n",
            "|          1|       0|     3|Braund, Mr. Owen ...|  male|22.0|    1|    0|       A/5 21171|   7.25| NULL|       S|\n",
            "|          2|       1|     1|Cumings, Mrs. Joh...|female|38.0|    1|    0|        PC 17599|71.2833|  C85|       C|\n",
            "|          3|       1|     3|Heikkinen, Miss. ...|female|26.0|    0|    0|STON/O2. 3101282|  7.925| NULL|       S|\n",
            "|          4|       1|     1|Futrelle, Mrs. Ja...|female|35.0|    1|    0|          113803|   53.1| C123|       S|\n",
            "|          5|       0|     3|Allen, Mr. Willia...|  male|35.0|    0|    0|          373450|   8.05| NULL|       S|\n",
            "+-----------+--------+------+--------------------+------+----+-----+-----+----------------+-------+-----+--------+\n",
            "only showing top 5 rows\n",
            "\n"
          ]
        }
      ]
    },
    {
      "cell_type": "markdown",
      "source": [
        "VERIFICAR O TIPO DE COLUNA"
      ],
      "metadata": {
        "id": "kefhicgBrpFr"
      }
    },
    {
      "cell_type": "code",
      "source": [
        "df.printSchema()"
      ],
      "metadata": {
        "colab": {
          "base_uri": "https://localhost:8080/"
        },
        "id": "QOtI3Dp4rvaj",
        "outputId": "fe33d497-b653-4085-aa44-d7d80d738ce8"
      },
      "execution_count": null,
      "outputs": [
        {
          "output_type": "stream",
          "name": "stdout",
          "text": [
            "root\n",
            " |-- PassengerId: integer (nullable = true)\n",
            " |-- Survived: integer (nullable = true)\n",
            " |-- Pclass: integer (nullable = true)\n",
            " |-- Name: string (nullable = true)\n",
            " |-- Sex: string (nullable = true)\n",
            " |-- Age: double (nullable = true)\n",
            " |-- SibSp: integer (nullable = true)\n",
            " |-- Parch: integer (nullable = true)\n",
            " |-- Ticket: string (nullable = true)\n",
            " |-- Fare: double (nullable = true)\n",
            " |-- Cabin: string (nullable = true)\n",
            " |-- Embarked: string (nullable = true)\n",
            "\n"
          ]
        }
      ]
    },
    {
      "cell_type": "markdown",
      "source": [
        "VERIFICAR DADOS NULOS\n"
      ],
      "metadata": {
        "id": "aE7znH2HsF2t"
      }
    },
    {
      "cell_type": "code",
      "source": [
        "df.toPandas().isna().sum()"
      ],
      "metadata": {
        "colab": {
          "base_uri": "https://localhost:8080/",
          "height": 460
        },
        "id": "Bj4pmG8RsIUb",
        "outputId": "fb1f2fd1-ed5d-414e-ac49-ad08229ab519"
      },
      "execution_count": null,
      "outputs": [
        {
          "output_type": "execute_result",
          "data": {
            "text/plain": [
              "PassengerId      0\n",
              "Survived         0\n",
              "Pclass           0\n",
              "Name             0\n",
              "Sex              0\n",
              "Age            177\n",
              "SibSp            0\n",
              "Parch            0\n",
              "Ticket           0\n",
              "Fare             0\n",
              "Cabin          687\n",
              "Embarked         2\n",
              "dtype: int64"
            ],
            "text/html": [
              "<div>\n",
              "<style scoped>\n",
              "    .dataframe tbody tr th:only-of-type {\n",
              "        vertical-align: middle;\n",
              "    }\n",
              "\n",
              "    .dataframe tbody tr th {\n",
              "        vertical-align: top;\n",
              "    }\n",
              "\n",
              "    .dataframe thead th {\n",
              "        text-align: right;\n",
              "    }\n",
              "</style>\n",
              "<table border=\"1\" class=\"dataframe\">\n",
              "  <thead>\n",
              "    <tr style=\"text-align: right;\">\n",
              "      <th></th>\n",
              "      <th>0</th>\n",
              "    </tr>\n",
              "  </thead>\n",
              "  <tbody>\n",
              "    <tr>\n",
              "      <th>PassengerId</th>\n",
              "      <td>0</td>\n",
              "    </tr>\n",
              "    <tr>\n",
              "      <th>Survived</th>\n",
              "      <td>0</td>\n",
              "    </tr>\n",
              "    <tr>\n",
              "      <th>Pclass</th>\n",
              "      <td>0</td>\n",
              "    </tr>\n",
              "    <tr>\n",
              "      <th>Name</th>\n",
              "      <td>0</td>\n",
              "    </tr>\n",
              "    <tr>\n",
              "      <th>Sex</th>\n",
              "      <td>0</td>\n",
              "    </tr>\n",
              "    <tr>\n",
              "      <th>Age</th>\n",
              "      <td>177</td>\n",
              "    </tr>\n",
              "    <tr>\n",
              "      <th>SibSp</th>\n",
              "      <td>0</td>\n",
              "    </tr>\n",
              "    <tr>\n",
              "      <th>Parch</th>\n",
              "      <td>0</td>\n",
              "    </tr>\n",
              "    <tr>\n",
              "      <th>Ticket</th>\n",
              "      <td>0</td>\n",
              "    </tr>\n",
              "    <tr>\n",
              "      <th>Fare</th>\n",
              "      <td>0</td>\n",
              "    </tr>\n",
              "    <tr>\n",
              "      <th>Cabin</th>\n",
              "      <td>687</td>\n",
              "    </tr>\n",
              "    <tr>\n",
              "      <th>Embarked</th>\n",
              "      <td>2</td>\n",
              "    </tr>\n",
              "  </tbody>\n",
              "</table>\n",
              "</div><br><label><b>dtype:</b> int64</label>"
            ]
          },
          "metadata": {},
          "execution_count": 12
        }
      ]
    },
    {
      "cell_type": "code",
      "source": [
        "for coluna in df.columns:\n",
        "  print(coluna,df.filter(df[coluna].isNull()).count())"
      ],
      "metadata": {
        "colab": {
          "base_uri": "https://localhost:8080/"
        },
        "id": "O4sYtzfksmOj",
        "outputId": "d9fd6b8e-1222-4307-b039-fb0ab6b76a8e"
      },
      "execution_count": null,
      "outputs": [
        {
          "output_type": "stream",
          "name": "stdout",
          "text": [
            "PassengerId 0\n",
            "Survived 0\n",
            "Pclass 0\n",
            "Name 0\n",
            "Sex 0\n",
            "Age 177\n",
            "SibSp 0\n",
            "Parch 0\n",
            "Ticket 0\n",
            "Fare 0\n",
            "Cabin 687\n",
            "Embarked 2\n"
          ]
        }
      ]
    },
    {
      "cell_type": "markdown",
      "source": [
        "para mudar o nome da coluna"
      ],
      "metadata": {
        "id": "6D3ZoldstZyc"
      }
    },
    {
      "cell_type": "code",
      "source": [
        "df.withColumnRenamed('Age', 'Idade').show()"
      ],
      "metadata": {
        "colab": {
          "base_uri": "https://localhost:8080/"
        },
        "id": "LRGj2Jlctcvk",
        "outputId": "b7467c88-9ea0-494a-86a8-e15f74f2a512"
      },
      "execution_count": null,
      "outputs": [
        {
          "output_type": "stream",
          "name": "stdout",
          "text": [
            "+-----------+--------+------+--------------------+------+-----+-----+-----+----------------+-------+-----+--------+\n",
            "|PassengerId|Survived|Pclass|                Name|   Sex|Idade|SibSp|Parch|          Ticket|   Fare|Cabin|Embarked|\n",
            "+-----------+--------+------+--------------------+------+-----+-----+-----+----------------+-------+-----+--------+\n",
            "|          1|       0|     3|Braund, Mr. Owen ...|  male| 22.0|    1|    0|       A/5 21171|   7.25| NULL|       S|\n",
            "|          2|       1|     1|Cumings, Mrs. Joh...|female| 38.0|    1|    0|        PC 17599|71.2833|  C85|       C|\n",
            "|          3|       1|     3|Heikkinen, Miss. ...|female| 26.0|    0|    0|STON/O2. 3101282|  7.925| NULL|       S|\n",
            "|          4|       1|     1|Futrelle, Mrs. Ja...|female| 35.0|    1|    0|          113803|   53.1| C123|       S|\n",
            "|          5|       0|     3|Allen, Mr. Willia...|  male| 35.0|    0|    0|          373450|   8.05| NULL|       S|\n",
            "|          6|       0|     3|    Moran, Mr. James|  male| NULL|    0|    0|          330877| 8.4583| NULL|       Q|\n",
            "|          7|       0|     1|McCarthy, Mr. Tim...|  male| 54.0|    0|    0|           17463|51.8625|  E46|       S|\n",
            "|          8|       0|     3|Palsson, Master. ...|  male|  2.0|    3|    1|          349909| 21.075| NULL|       S|\n",
            "|          9|       1|     3|Johnson, Mrs. Osc...|female| 27.0|    0|    2|          347742|11.1333| NULL|       S|\n",
            "|         10|       1|     2|Nasser, Mrs. Nich...|female| 14.0|    1|    0|          237736|30.0708| NULL|       C|\n",
            "|         11|       1|     3|Sandstrom, Miss. ...|female|  4.0|    1|    1|         PP 9549|   16.7|   G6|       S|\n",
            "|         12|       1|     1|Bonnell, Miss. El...|female| 58.0|    0|    0|          113783|  26.55| C103|       S|\n",
            "|         13|       0|     3|Saundercock, Mr. ...|  male| 20.0|    0|    0|       A/5. 2151|   8.05| NULL|       S|\n",
            "|         14|       0|     3|Andersson, Mr. An...|  male| 39.0|    1|    5|          347082| 31.275| NULL|       S|\n",
            "|         15|       0|     3|Vestrom, Miss. Hu...|female| 14.0|    0|    0|          350406| 7.8542| NULL|       S|\n",
            "|         16|       1|     2|Hewlett, Mrs. (Ma...|female| 55.0|    0|    0|          248706|   16.0| NULL|       S|\n",
            "|         17|       0|     3|Rice, Master. Eugene|  male|  2.0|    4|    1|          382652| 29.125| NULL|       Q|\n",
            "|         18|       1|     2|Williams, Mr. Cha...|  male| NULL|    0|    0|          244373|   13.0| NULL|       S|\n",
            "|         19|       0|     3|Vander Planke, Mr...|female| 31.0|    1|    0|          345763|   18.0| NULL|       S|\n",
            "|         20|       1|     3|Masselmani, Mrs. ...|female| NULL|    0|    0|            2649|  7.225| NULL|       C|\n",
            "+-----------+--------+------+--------------------+------+-----+-----+-----+----------------+-------+-----+--------+\n",
            "only showing top 20 rows\n",
            "\n"
          ]
        }
      ]
    },
    {
      "cell_type": "code",
      "source": [
        "df.withColumnRenamed('Name', 'Nome').show(2)"
      ],
      "metadata": {
        "colab": {
          "base_uri": "https://localhost:8080/"
        },
        "id": "gRa2ozUuH_Yw",
        "outputId": "2d9f95e5-0876-4837-928b-34c2016bf7e3"
      },
      "execution_count": null,
      "outputs": [
        {
          "output_type": "stream",
          "name": "stdout",
          "text": [
            "+-----------+--------+------+--------------------+------+----+-----+-----+---------+-------+-----+--------+\n",
            "|PassengerId|Survived|Pclass|                Nome|   Sex| Age|SibSp|Parch|   Ticket|   Fare|Cabin|Embarked|\n",
            "+-----------+--------+------+--------------------+------+----+-----+-----+---------+-------+-----+--------+\n",
            "|          1|       0|     3|Braund, Mr. Owen ...|  male|22.0|    1|    0|A/5 21171|   7.25| NULL|       S|\n",
            "|          2|       1|     1|Cumings, Mrs. Joh...|female|38.0|    1|    0| PC 17599|71.2833|  C85|       C|\n",
            "+-----------+--------+------+--------------------+------+----+-----+-----+---------+-------+-----+--------+\n",
            "only showing top 2 rows\n",
            "\n"
          ]
        }
      ]
    },
    {
      "cell_type": "code",
      "source": [
        "df = df.withColumnRenamed('Sex', 'sexo')\\\n",
        ".withColumnRenamed('Ticket', 'bilhete')\\\n",
        ".withColumnRenamed('Cabin', 'Cabine')\\\n",
        ".withColumnRenamed('survived', 'sobreviveu')\\\n",
        ".withColumnRenamed('Embarked', 'embarque')\\\n",
        ".withColumnRenamed('Age', 'idade')\\\n",
        ".withColumnRenamed('Fare', 'tarifa')\\\n",
        ".withColumnRenamed('Parch', 'n_pais_filhos')\\\n",
        ".withColumnRenamed('Pclass', 'classe')\\\n",
        ".withColumnRenamed('Name', 'Nome')\n",
        "df.show(5)"
      ],
      "metadata": {
        "colab": {
          "base_uri": "https://localhost:8080/"
        },
        "id": "snMPatLCJMlA",
        "outputId": "237df919-5216-41f2-abdc-b8cb7099882a"
      },
      "execution_count": null,
      "outputs": [
        {
          "output_type": "stream",
          "name": "stdout",
          "text": [
            "+-----------+----------+------+--------------------+------+-----+-----+-------------+----------------+-------+------+--------+\n",
            "|PassengerId|sobreviveu|classe|                Nome|  sexo|idade|SibSp|n_pais_filhos|         bilhete| tarifa|Cabine|embarque|\n",
            "+-----------+----------+------+--------------------+------+-----+-----+-------------+----------------+-------+------+--------+\n",
            "|          1|         0|     3|Braund, Mr. Owen ...|  male| 22.0|    1|            0|       A/5 21171|   7.25|  NULL|       S|\n",
            "|          2|         1|     1|Cumings, Mrs. Joh...|female| 38.0|    1|            0|        PC 17599|71.2833|   C85|       C|\n",
            "|          3|         1|     3|Heikkinen, Miss. ...|female| 26.0|    0|            0|STON/O2. 3101282|  7.925|  NULL|       S|\n",
            "|          4|         1|     1|Futrelle, Mrs. Ja...|female| 35.0|    1|            0|          113803|   53.1|  C123|       S|\n",
            "|          5|         0|     3|Allen, Mr. Willia...|  male| 35.0|    0|            0|          373450|   8.05|  NULL|       S|\n",
            "+-----------+----------+------+--------------------+------+-----+-----+-------------+----------------+-------+------+--------+\n",
            "only showing top 5 rows\n",
            "\n"
          ]
        }
      ]
    },
    {
      "cell_type": "code",
      "source": [
        "df.columns"
      ],
      "metadata": {
        "colab": {
          "base_uri": "https://localhost:8080/"
        },
        "id": "XnadAEg2MwYw",
        "outputId": "49d3cf09-2801-4697-ae67-d383ff83be38"
      },
      "execution_count": null,
      "outputs": [
        {
          "output_type": "execute_result",
          "data": {
            "text/plain": [
              "['PassengerId',\n",
              " 'sobreviveu',\n",
              " 'classe',\n",
              " 'Nome',\n",
              " 'sexo',\n",
              " 'idade',\n",
              " 'SibSp',\n",
              " 'n_pais_filhos',\n",
              " 'bilhete',\n",
              " 'tarifa',\n",
              " 'Cabine',\n",
              " 'embarque']"
            ]
          },
          "metadata": {},
          "execution_count": 27
        }
      ]
    },
    {
      "cell_type": "code",
      "source": [
        "for coluna in df.columns:\n",
        "  print(coluna,df.filter(df[coluna].isNull()) .count())"
      ],
      "metadata": {
        "colab": {
          "base_uri": "https://localhost:8080/"
        },
        "id": "kDg89_ZJM7Mw",
        "outputId": "3bcc6628-16c6-4f73-c41e-9ec053824298"
      },
      "execution_count": null,
      "outputs": [
        {
          "output_type": "stream",
          "name": "stdout",
          "text": [
            "PassengerId 0\n",
            "sobreviveu 0\n",
            "classe 0\n",
            "Nome 0\n",
            "sexo 0\n",
            "idade 177\n",
            "SibSp 0\n",
            "n_pais_filhos 0\n",
            "bilhete 0\n",
            "tarifa 0\n",
            "Cabine 687\n",
            "embarque 2\n"
          ]
        }
      ]
    },
    {
      "cell_type": "markdown",
      "source": [
        "SELECIONAR AS COLUNAS"
      ],
      "metadata": {
        "id": "8xPf2v42N6SJ"
      }
    },
    {
      "cell_type": "code",
      "source": [
        "df.select('NOME','idade', 'SEXO').show(5)"
      ],
      "metadata": {
        "colab": {
          "base_uri": "https://localhost:8080/"
        },
        "id": "bg_H_xB4N82R",
        "outputId": "fbeaf94d-58bc-4262-f1e3-31918b0a9647"
      },
      "execution_count": null,
      "outputs": [
        {
          "output_type": "stream",
          "name": "stdout",
          "text": [
            "+--------------------+-----+------+\n",
            "|                NOME|idade|  SEXO|\n",
            "+--------------------+-----+------+\n",
            "|Braund, Mr. Owen ...| 22.0|  male|\n",
            "|Cumings, Mrs. Joh...| 38.0|female|\n",
            "|Heikkinen, Miss. ...| 26.0|female|\n",
            "|Futrelle, Mrs. Ja...| 35.0|female|\n",
            "|Allen, Mr. Willia...| 35.0|  male|\n",
            "+--------------------+-----+------+\n",
            "only showing top 5 rows\n",
            "\n"
          ]
        }
      ]
    },
    {
      "cell_type": "code",
      "source": [
        "df.select(col('nome'), col('sexo')).show(10)"
      ],
      "metadata": {
        "colab": {
          "base_uri": "https://localhost:8080/"
        },
        "id": "0fqmrKKvSIhp",
        "outputId": "8d18b9ca-3243-47b8-8cff-7e2c2f7c1aa9"
      },
      "execution_count": null,
      "outputs": [
        {
          "output_type": "stream",
          "name": "stdout",
          "text": [
            "+--------------------+------+\n",
            "|                nome|  sexo|\n",
            "+--------------------+------+\n",
            "|Braund, Mr. Owen ...|  male|\n",
            "|Cumings, Mrs. Joh...|female|\n",
            "|Heikkinen, Miss. ...|female|\n",
            "|Futrelle, Mrs. Ja...|female|\n",
            "|Allen, Mr. Willia...|  male|\n",
            "|    Moran, Mr. James|  male|\n",
            "|McCarthy, Mr. Tim...|  male|\n",
            "|Palsson, Master. ...|  male|\n",
            "|Johnson, Mrs. Osc...|female|\n",
            "|Nasser, Mrs. Nich...|female|\n",
            "+--------------------+------+\n",
            "only showing top 10 rows\n",
            "\n"
          ]
        }
      ]
    },
    {
      "cell_type": "markdown",
      "source": [
        "SELECIONANDO COM ALIAS"
      ],
      "metadata": {
        "id": "QeAZcRV2S-ch"
      }
    },
    {
      "cell_type": "code",
      "source": [
        "df.select(df['nome'].alias('defunto')).show(5)"
      ],
      "metadata": {
        "colab": {
          "base_uri": "https://localhost:8080/"
        },
        "id": "k1GveZoyTAhh",
        "outputId": "dd899c3b-33da-4057-da1b-2771c0ed7461"
      },
      "execution_count": null,
      "outputs": [
        {
          "output_type": "stream",
          "name": "stdout",
          "text": [
            "+--------------------+\n",
            "|             defunto|\n",
            "+--------------------+\n",
            "|Braund, Mr. Owen ...|\n",
            "|Cumings, Mrs. Joh...|\n",
            "|Heikkinen, Miss. ...|\n",
            "|Futrelle, Mrs. Ja...|\n",
            "|Allen, Mr. Willia...|\n",
            "+--------------------+\n",
            "only showing top 5 rows\n",
            "\n"
          ]
        }
      ]
    },
    {
      "cell_type": "code",
      "source": [
        "df.select(col('nome').alias('defunto')).show(5)"
      ],
      "metadata": {
        "colab": {
          "base_uri": "https://localhost:8080/"
        },
        "id": "2mTVtr33Tr8j",
        "outputId": "6909bd55-001d-4cec-bdb3-9d6eb1e39767"
      },
      "execution_count": null,
      "outputs": [
        {
          "output_type": "stream",
          "name": "stdout",
          "text": [
            "+--------------------+\n",
            "|             defunto|\n",
            "+--------------------+\n",
            "|Braund, Mr. Owen ...|\n",
            "|Cumings, Mrs. Joh...|\n",
            "|Heikkinen, Miss. ...|\n",
            "|Futrelle, Mrs. Ja...|\n",
            "|Allen, Mr. Willia...|\n",
            "+--------------------+\n",
            "only showing top 5 rows\n",
            "\n"
          ]
        }
      ]
    }
  ]
}